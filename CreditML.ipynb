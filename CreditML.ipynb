{
 "metadata": {
  "language_info": {
   "codemirror_mode": {
    "name": "ipython",
    "version": 3
   },
   "file_extension": ".py",
   "mimetype": "text/x-python",
   "name": "python",
   "nbconvert_exporter": "python",
   "pygments_lexer": "ipython3",
   "version": "3.8.3-final"
  },
  "orig_nbformat": 2,
  "kernelspec": {
   "name": "Python 3.8.3 64-bit ('ProgramData': virtualenv)",
   "display_name": "Python 3.8.3 64-bit ('ProgramData': virtualenv)",
   "metadata": {
    "interpreter": {
     "hash": "b3ba2566441a7c06988d0923437866b63cedc61552a5af99d1f4fb67d367b25f"
    }
   }
  }
 },
 "nbformat": 4,
 "nbformat_minor": 2,
 "cells": [
  {
   "cell_type": "markdown",
   "metadata": {},
   "source": [
    "# Predicting Credit Ratings\n",
    "\n",
    "This notebook contains my very first Data Science / Machine Learning project, to learn about and apply different ML algorithms on a German Credit Data Set to predict creditworthiness.\n",
    "\n",
    "### 1. Importing Packages & Data\n",
    "\n",
    "First off, I'll import the packages I'll need in this project, this includes:\n",
    "- pandas: using dataframes makes manipulating the data easier\n",
    "- numpy: for matrix maths\n",
    "- scikit-learn: for applying distance metrics in K-means clustering\n",
    "- pytorch:\n",
    "- matplotlib: for data visualisations and graphs."
   ]
  },
  {
   "cell_type": "code",
   "execution_count": 28,
   "metadata": {},
   "outputs": [],
   "source": [
    "import pandas as pd\n",
    "import numpy as np\n",
    "import sklearn as skl\n",
    "import torch as pyt\n",
    "import matplotlib as plt"
   ]
  },
  {
   "cell_type": "markdown",
   "metadata": {},
   "source": [
    "Next I'll import the data set as a pandas DataFrame. \n",
    "\n",
    "I am using the German Credit DataFrame from the UCI Machine Learning repository:\n",
    "\n",
    "https://archive.ics.uci.edu/ml/datasets/Statlog+%28German+Credit+Data%29 "
   ]
  },
  {
   "cell_type": "code",
   "execution_count": 125,
   "metadata": {},
   "outputs": [
    {
     "output_type": "stream",
     "name": "stdout",
     "text": [
      "    AccBalance  Duration CreditHistory Purpose  Amount Savings Employment  \\\n0          A11         6           A34     A43    1169     A65        A75   \n1          A12        48           A32     A43    5951     A61        A73   \n2          A14        12           A34     A46    2096     A61        A74   \n3          A11        42           A32     A42    7882     A61        A74   \n4          A11        24           A33     A40    4870     A61        A73   \n..         ...       ...           ...     ...     ...     ...        ...   \n995        A14        12           A32     A42    1736     A61        A74   \n996        A11        30           A32     A41    3857     A61        A73   \n997        A14        12           A32     A43     804     A61        A75   \n998        A11        45           A32     A43    1845     A61        A73   \n999        A12        45           A34     A41    4576     A62        A71   \n\n     Rate  Status Sex  ... Property  Age OtherPlans  Housing ExistingCredits  \\\n0       4       S   M  ...     A121   67       A143     A152               2   \n1       2  D/Se/M   F  ...     A121   22       A143     A152               1   \n2       2       S   M  ...     A121   49       A143     A152               1   \n3       2       S   M  ...     A122   45       A143     A153               1   \n4       3       S   M  ...     A124   53       A143     A153               2   \n..    ...     ...  ..  ...      ...  ...        ...      ...             ...   \n995     3  D/Se/M   F  ...     A121   31       A143     A152               1   \n996     4    D/Se   M  ...     A122   40       A143     A152               1   \n997     4       S   M  ...     A123   38       A143     A152               1   \n998     4       S   M  ...     A124   23       A143     A153               1   \n999     3       S   M  ...     A123   27       A143     A152               1   \n\n      Job  PeopleMainenanceFor Telephone  ForeignWorker CreditRating  \n0    A173                    1      A192           A201            1  \n1    A173                    1      A191           A201            2  \n2    A172                    2      A191           A201            1  \n3    A173                    2      A191           A201            1  \n4    A173                    2      A191           A201            2  \n..    ...                  ...       ...            ...          ...  \n995  A172                    1      A191           A201            1  \n996  A174                    1      A192           A201            1  \n997  A173                    1      A191           A201            1  \n998  A173                    1      A192           A201            2  \n999  A173                    1      A191           A201            1  \n\n[1000 rows x 22 columns]\n"
     ]
    }
   ],
   "source": [
    "german_credit_data_original = pd.read_csv(r\"C:\\Users\\nicholst\\OneDrive - Pension Services Corporation Ltd\\Projects\\Credit Risk ML\\German Credit Data\\german.csv\")\n",
    "print(german_credit_data_original)"
   ]
  },
  {
   "cell_type": "markdown",
   "metadata": {},
   "source": [
    "### 2. K-Means Clustering  \n",
    "\n",
    "First I'll try using K-Means clustering to determine Credit Rating (Good or Bad) from a number of features in the data. \n",
    "\n",
    "As you can see from the above DataFrame, the data is of mixed type i.e. contains continuous data in some columns (e.g. Duration) and categorical data in the rest (e.g. Sex). This means that the standard K-means algorithm, built solely for continuous data will not work in this instance. This is because the Euclidean distance metirc (i.e. straight line in N-dimensions) is not calculable when any of the dimensions are not continuous. \n",
    "\n",
    "However, I can use an alternative method: Gower's distance. This uses the \"Manhattan distance\" to measure the dissimilarity of the continuous features and the \"Dice distance\" for the categorical features.\n",
    "\n",
    "First let's decide on which features I'll use. I'll start by using a set of the 10 features I believe to be the most relevant: Age,\n",
    "AccBalance, CreditHistory, Purpose, Employment, Savings, ExistingCredits, Property, Duration and Rate.\n",
    "\n",
    "I'll cut down the DataFrame to only include these features. "
   ]
  },
  {
   "cell_type": "code",
   "execution_count": 126,
   "metadata": {},
   "outputs": [
    {
     "output_type": "stream",
     "name": "stdout",
     "text": [
      "     Age AccBalance CreditHistory Purpose Employment Savings  ExistingCredits  \\\n0     67        A11           A34     A43        A75     A65                2   \n1     22        A12           A32     A43        A73     A61                1   \n2     49        A14           A34     A46        A74     A61                1   \n3     45        A11           A32     A42        A74     A61                1   \n4     53        A11           A33     A40        A73     A61                2   \n..   ...        ...           ...     ...        ...     ...              ...   \n995   31        A14           A32     A42        A74     A61                1   \n996   40        A11           A32     A41        A73     A61                1   \n997   38        A14           A32     A43        A75     A61                1   \n998   23        A11           A32     A43        A73     A61                1   \n999   27        A12           A34     A41        A71     A62                1   \n\n    Property  Duration  Rate  \n0       A121         6     4  \n1       A121        48     2  \n2       A121        12     2  \n3       A122        42     2  \n4       A124        24     3  \n..       ...       ...   ...  \n995     A121        12     3  \n996     A122        30     4  \n997     A123        12     4  \n998     A124        45     4  \n999     A123        45     3  \n\n[1000 rows x 10 columns]\n"
     ]
    }
   ],
   "source": [
    "feature_list = ['Age','AccBalance','CreditHistory','Purpose','Employment','Savings','ExistingCredits','Property','Duration','Rate']\n",
    "german_credit_data = german_credit_data_original[feature_list]\n",
    "print(german_credit_data)"
   ]
  },
  {
   "cell_type": "markdown",
   "metadata": {},
   "source": [
    "Now that I have my cut-down features DataFrame I will apply the manhattan distance to all of the numeric features. "
   ]
  },
  {
   "cell_type": "code",
   "execution_count": 127,
   "metadata": {},
   "outputs": [
    {
     "output_type": "stream",
     "name": "stdout",
     "text": [
      "Age\n[[0.         0.80357143 0.32142857 ... 0.51785714 0.78571429 0.71428571]\n [0.80357143 0.         0.48214286 ... 0.28571429 0.01785714 0.08928571]\n [0.32142857 0.48214286 0.         ... 0.19642857 0.46428571 0.39285714]\n ...\n [0.51785714 0.28571429 0.19642857 ... 0.         0.26785714 0.19642857]\n [0.78571429 0.01785714 0.46428571 ... 0.26785714 0.         0.07142857]\n [0.71428571 0.08928571 0.39285714 ... 0.19642857 0.07142857 0.        ]]\n"
     ]
    }
   ],
   "source": [
    "from sklearn.neighbors import DistanceMetric\n",
    "\n",
    "# Get the dtype for each column\n",
    "data_types = german_credit_data.dtypes\n",
    "\n",
    "# Set up dictionary to save distances\n",
    "s = {}\n",
    "\n",
    "# For each column in the df calculate manhattan distance if numeric\n",
    "for col in german_credit_data:\n",
    "    if data_types[col] != \"object\":\n",
    "\n",
    "        # Calculating matrix of pairwise differences\n",
    "        s[col] = DistanceMetric.get_metric('manhattan').pairwise(german_credit_data[[col]])\n",
    "\n",
    "        # Normalising the matrix \n",
    "        s[col] = s[col]/max(np.ptp(german_credit_data[[col]]),1)\n",
    "\n",
    "# Print an example\n",
    "print(\"Age\")\n",
    "print(s['Age'])"
   ]
  },
  {
   "cell_type": "markdown",
   "metadata": {},
   "source": [
    "The remaining features are all categorical and as such I will now apply the Dice distance to them."
   ]
  },
  {
   "cell_type": "code",
   "execution_count": 128,
   "metadata": {},
   "outputs": [
    {
     "output_type": "stream",
     "name": "stdout",
     "text": [
      "AccBalance\n[[0. 1. 1. ... 1. 0. 1.]\n [1. 0. 1. ... 1. 1. 0.]\n [1. 1. 0. ... 0. 1. 1.]\n ...\n [1. 1. 0. ... 0. 1. 1.]\n [0. 1. 1. ... 1. 0. 1.]\n [1. 0. 1. ... 1. 1. 0.]]\n"
     ]
    }
   ],
   "source": [
    "# For each column in the df calculate dice distance if non-numeric\n",
    "for col in german_credit_data:\n",
    "    if data_types[col] == \"object\":\n",
    "\n",
    "        # Create a dummy data column\n",
    "        dummy_df = pd.get_dummies(german_credit_data[[col]])\n",
    "\n",
    "        # Calculating matrix of pairwise differences\n",
    "        s[col] = DistanceMetric.get_metric('dice').pairwise(dummy_df)\n",
    "\n",
    "        # Normalising the matrix \n",
    "        s[col] = s[col]/max(np.ptp(dummy_df),1)\n",
    "\n",
    "# Print an example\n",
    "print(\"AccBalance\")\n",
    "print(s[\"AccBalance\"])"
   ]
  },
  {
   "cell_type": "markdown",
   "metadata": {},
   "source": [
    "The Gowers distance can then be calculated using the formula below: \n",
    "\n",
    "d = Sum(si*wi)/Sum(wi)\n",
    "\n",
    "Where: \n",
    "- si are the distances for each feature\n",
    "- wi are the weights\n",
    "\n",
    "We will use weights of 1 for all features to begin with. \n"
   ]
  },
  {
   "cell_type": "code",
   "execution_count": 149,
   "metadata": {},
   "outputs": [
    {
     "output_type": "stream",
     "name": "stdout",
     "text": [
      "[[0.         0.64212185 0.54096639 ... 0.49394258 0.5692577  0.69544818]\n [0.64212185 0.         0.50115546 ... 0.44817927 0.27286415 0.54667367]\n [0.54096639 0.50115546 0.         ... 0.48630952 0.66162465 0.62114846]\n ...\n [0.49394258 0.44817927 0.48630952 ... 0.         0.37531513 0.6015056 ]\n [0.5692577  0.27286415 0.66162465 ... 0.37531513 0.         0.64047619]\n [0.69544818 0.54667367 0.62114846 ... 0.6015056  0.64047619 0.        ]]\n"
     ]
    }
   ],
   "source": [
    "i = 0\n",
    "for col in german_credit_data:\n",
    "    if i == 0:\n",
    "        gowers = s[col]\n",
    "    else:\n",
    "        gowers = np.add(gowers, s[col])\n",
    "    i += 1\n",
    "gowers = gowers / len(german_credit_data.columns)\n",
    "print(gowers)\n",
    "    \n",
    "     "
   ]
  },
  {
   "cell_type": "markdown",
   "metadata": {},
   "source": [
    "We now have our full matrix of Gower distances between all of the 1000 records in the data set. \n",
    "\n",
    "Let's take the first record and find it's nearest 10 neighbours. And from this we can get a first guess probability for the person having a credit rating of \"Good\".\n"
   ]
  },
  {
   "cell_type": "code",
   "execution_count": 160,
   "metadata": {
    "tags": []
   },
   "outputs": [
    {
     "output_type": "stream",
     "name": "stdout",
     "text": [
      "IDs of the 10 nearest neighbours by Gower Distance:\n[61, 135, 807, 179, 177, 115, 823, 71, 955, 16]\n\nProbability of Good Credit: 100.0%\nActual Credit Rating: Good\n"
     ]
    }
   ],
   "source": [
    "# Get just first row of distances\n",
    "distances = list(gowers[0])\n",
    "\n",
    "# Create a list of row nums\n",
    "nums = [i+1 for i in range(1000)]\n",
    "dist_map = dict(zip(distances,nums))\n",
    "\n",
    "# Get IDs of the 10 nearest neighbours\n",
    "distances.sort()\n",
    "IDs = []\n",
    "for i in range(0,10):\n",
    "    dist = distances[i+1]\n",
    "    ID = dist_map[dist]-1\n",
    "    IDs += [ID]\n",
    "print(\"IDs of the 10 nearest neighbours by Gower Distance:\")\n",
    "print(IDs)\n",
    "print(\"\")\n",
    "\n",
    "# For each of these 10 records, get the Credit Rating\n",
    "data_neighbours = german_credit_data_original.iloc[IDs][\"CreditRating\"]\n",
    "\n",
    "# Count number of 1's \n",
    "good_count = german_credit_data_original.iloc[IDs][\"CreditRating\"].value_counts()[1]\n",
    "length = len(data_neighbours)\n",
    "prob = good_count / len(data_neighbours)\n",
    "print(\"Probability of Good Credit: \"+str(prob*100)+\"%\")\n",
    "\n",
    "# Get the actual Credit Rating\n",
    "Actual = german_credit_data_original.iloc[0][\"CreditRating\"]\n",
    "if Actual == 1:\n",
    "    Actual = \"Good\"\n",
    "else:\n",
    "    Actual = \"Bad\"\n",
    "print(f\"Actual Credit Rating: {Actual}\")\n",
    "\n"
   ]
  },
  {
   "cell_type": "markdown",
   "metadata": {},
   "source": [
    "Now I'll perform a loop to get the Probabilities and actual credit ratings of each row."
   ]
  },
  {
   "cell_type": "code",
   "execution_count": 179,
   "metadata": {
    "tags": []
   },
   "outputs": [
    {
     "output_type": "stream",
     "name": "stdout",
     "text": [
      "Of 1000 records 703 were predicted correctly and 297 were not\nThis means the algorithm is 70.3% accurate when:\nk = 10\nfeature list = ['Age', 'AccBalance', 'CreditHistory', 'Purpose', 'Employment', 'Savings', 'ExistingCredits', 'Property', 'Duration', 'Rate']\n"
     ]
    }
   ],
   "source": [
    "k = 10 \n",
    "row_id = 0 \n",
    "correct_count = 0\n",
    "for row in gowers:\n",
    "\n",
    "    # Get just first row of distances\n",
    "    distances = list(row)\n",
    "\n",
    "    # Create a list of row nums\n",
    "    nums = [i+1 for i in range(1000)]\n",
    "    dist_map = dict(zip(distances,nums))\n",
    "\n",
    "    # Get IDs of the 10 nearest neighbours\n",
    "    distances.sort()\n",
    "    IDs = []\n",
    "    for i in range(0,k):\n",
    "        dist = distances[i+1]\n",
    "        ID = dist_map[dist]-1\n",
    "        IDs += [ID]\n",
    "\n",
    "    # For each of these 10 records, get the Credit Rating\n",
    "    data_neighbours = german_credit_data_original.iloc[IDs][\"CreditRating\"]\n",
    "\n",
    "    # Count number of 1's\n",
    "    try:\n",
    "        good_count = german_credit_data_original.iloc[IDs][\"CreditRating\"].value_counts()[1]\n",
    "    except:\n",
    "        good_count = 0\n",
    "    length = len(data_neighbours)\n",
    "    prob = good_count / len(data_neighbours)\n",
    "\n",
    "    # Get the actual Credit Rating\n",
    "    Actual = german_credit_data_original.iloc[row_id][\"CreditRating\"]\n",
    "    if Actual == 1:\n",
    "        Actual = \"Good\"\n",
    "    else:\n",
    "        Actual = \"Bad\"\n",
    "\n",
    "    # Determine if estimation is correct\n",
    "    if prob > 0.5:\n",
    "        if Actual == \"Good\":\n",
    "            correct_count += 1\n",
    "    else:\n",
    "        if Actual == \"Bad\":\n",
    "            correct_count += 1\n",
    "\n",
    "    row_id += 1\n",
    "\n",
    "# Display the results\n",
    "print(f\"Of 1000 records {str(correct_count)} were predicted correctly and {str(1000-correct_count)} were not\")\n",
    "print(f\"This means the algorithm is {str(correct_count*100/1000)}% accurate when:\")\n",
    "print(f\"k = {k}\")\n"
   ]
  },
  {
   "cell_type": "markdown",
   "metadata": {},
   "source": [
    "With an accuracy of 70.3% this algorithm does not achieve a much higher precision than just simply guessing that all records will have \"Good\" credit rating (as these make up 700 out of 1000 records), this is far from ideal. \n",
    "\n",
    "I'll now wrap this in a function and call this again for a range of values of k, to see if we can achieve any more accuracy. "
   ]
  },
  {
   "cell_type": "code",
   "execution_count": 181,
   "metadata": {},
   "outputs": [
    {
     "output_type": "stream",
     "name": "stdout",
     "text": [
      "Of 1000 records 707 were predicted correctly and 293 were not\n",
      "This means the algorithm is 70.7% accurate when:\n",
      "k = 5\n",
      "feature list = ['Age', 'AccBalance', 'CreditHistory', 'Purpose', 'Employment', 'Savings', 'ExistingCredits', 'Property', 'Duration', 'Rate']\n",
      "\n",
      "Of 1000 records 703 were predicted correctly and 297 were not\n",
      "This means the algorithm is 70.3% accurate when:\n",
      "k = 10\n",
      "feature list = ['Age', 'AccBalance', 'CreditHistory', 'Purpose', 'Employment', 'Savings', 'ExistingCredits', 'Property', 'Duration', 'Rate']\n",
      "\n",
      "Of 1000 records 735 were predicted correctly and 265 were not\n",
      "This means the algorithm is 73.5% accurate when:\n",
      "k = 15\n",
      "feature list = ['Age', 'AccBalance', 'CreditHistory', 'Purpose', 'Employment', 'Savings', 'ExistingCredits', 'Property', 'Duration', 'Rate']\n",
      "\n",
      "Of 1000 records 746 were predicted correctly and 254 were not\n",
      "This means the algorithm is 74.6% accurate when:\n",
      "k = 25\n",
      "feature list = ['Age', 'AccBalance', 'CreditHistory', 'Purpose', 'Employment', 'Savings', 'ExistingCredits', 'Property', 'Duration', 'Rate']\n",
      "\n",
      "Of 1000 records 722 were predicted correctly and 278 were not\n",
      "This means the algorithm is 72.2% accurate when:\n",
      "k = 50\n",
      "feature list = ['Age', 'AccBalance', 'CreditHistory', 'Purpose', 'Employment', 'Savings', 'ExistingCredits', 'Property', 'Duration', 'Rate']\n",
      "\n",
      "Of 1000 records 716 were predicted correctly and 284 were not\n",
      "This means the algorithm is 71.6% accurate when:\n",
      "k = 100\n",
      "feature list = ['Age', 'AccBalance', 'CreditHistory', 'Purpose', 'Employment', 'Savings', 'ExistingCredits', 'Property', 'Duration', 'Rate']\n",
      "\n",
      "Of 1000 records 700 were predicted correctly and 300 were not\n",
      "This means the algorithm is 70.0% accurate when:\n",
      "k = 999\n",
      "feature list = ['Age', 'AccBalance', 'CreditHistory', 'Purpose', 'Employment', 'Savings', 'ExistingCredits', 'Property', 'Duration', 'Rate']\n",
      "\n"
     ]
    }
   ],
   "source": [
    "def test_k_means(k,gowers_matrix):\n",
    "\n",
    "    row_id = 0 \n",
    "    correct_count = 0\n",
    "    for row in gowers_matrix:\n",
    "\n",
    "        # Get just first row of distances\n",
    "        distances = list(row)\n",
    "\n",
    "        # Create a list of row nums\n",
    "        nums = [i+1 for i in range(1000)]\n",
    "        dist_map = dict(zip(distances,nums))\n",
    "\n",
    "        # Get IDs of the 10 nearest neighbours\n",
    "        distances.sort()\n",
    "        IDs = []\n",
    "        for i in range(0,k):\n",
    "            dist = distances[i+1]\n",
    "            ID = dist_map[dist]-1\n",
    "            IDs += [ID]\n",
    "\n",
    "        # For each of these 10 records, get the Credit Rating\n",
    "        data_neighbours = german_credit_data_original.iloc[IDs][\"CreditRating\"]\n",
    "\n",
    "        # Count number of 1's\n",
    "        try:\n",
    "            good_count = german_credit_data_original.iloc[IDs][\"CreditRating\"].value_counts()[1]\n",
    "        except:\n",
    "            good_count = 0\n",
    "        length = len(data_neighbours)\n",
    "        prob = good_count / len(data_neighbours)\n",
    "\n",
    "        # Get the actual Credit Rating\n",
    "        Actual = german_credit_data_original.iloc[row_id][\"CreditRating\"]\n",
    "        if Actual == 1:\n",
    "            Actual = \"Good\"\n",
    "        else:\n",
    "            Actual = \"Bad\"\n",
    "\n",
    "        # Determine if estimation is correct\n",
    "        if prob > 0.5:\n",
    "            if Actual == \"Good\":\n",
    "                correct_count += 1\n",
    "        else:\n",
    "            if Actual == \"Bad\":\n",
    "                correct_count += 1\n",
    "\n",
    "        row_id += 1\n",
    "\n",
    "    # Display the results\n",
    "    print(f\"Of 1000 records {str(correct_count)} were predicted correctly and {str(1000-correct_count)} were not\")\n",
    "    print(f\"This means the algorithm is {str(correct_count*100/1000)}% accurate when:\")\n",
    "    print(f\"k = {k}\")\n",
    "    print(f\"\")\n",
    "\n",
    "test_k_means(5,gowers)\n",
    "test_k_means(10,gowers)\n",
    "test_k_means(15,gowers)\n",
    "test_k_means(25,gowers)\n",
    "test_k_means(50,gowers)\n",
    "test_k_means(100,gowers)\n",
    "test_k_means(999,gowers)"
   ]
  },
  {
   "cell_type": "markdown",
   "metadata": {},
   "source": [
    "The highest accuracy acheived was 74.6% when k = 25, this is still not great...\n",
    "\n",
    "I have two avenues to explore in order to try to improve this accuracy:\n",
    "\n",
    "   1. Change the features in the feature list.  \n",
    "   2. Adjust the weighting applied to the various features when calculating the distance metric. \n",
    "\n",
    "I'll now experiment by varying up the features in the selected feature list to again see if this can generate any better results. It may be that we are missing some features that are key for determining Credit Ratings. "
   ]
  }
 ]
}